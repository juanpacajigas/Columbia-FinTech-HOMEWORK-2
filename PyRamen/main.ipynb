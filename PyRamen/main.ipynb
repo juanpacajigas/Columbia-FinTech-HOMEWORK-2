{
 "cells": [
  {
   "cell_type": "code",
   "execution_count": null,
   "metadata": {},
   "outputs": [],
   "source": [
    "\"\"\" This is the second (optional) section of the Homework. Please check the README.md file for instructions\n",
    "\"\"\""
   ]
  },
  {
   "cell_type": "code",
   "execution_count": 1,
   "metadata": {},
   "outputs": [],
   "source": [
    "# @TODO: Import libraries\n",
    "import csv\n",
    "from pathlib import Path"
   ]
  },
  {
   "cell_type": "code",
   "execution_count": 2,
   "metadata": {},
   "outputs": [],
   "source": [
    "# @TODO: Set file paths for menu_data.csv and sales_data.csv\n",
    "menu_filepath = Path('../PyRamen/menu_data.csv')\n",
    "sales_filepath = Path('../PyRamen/sales_data.csv')"
   ]
  },
  {
   "cell_type": "code",
   "execution_count": 3,
   "metadata": {},
   "outputs": [],
   "source": [
    "# @TODO: Initialize list objects to hold our menu and sales data\n",
    "menu = []\n",
    "sales = []"
   ]
  },
  {
   "cell_type": "code",
   "execution_count": 4,
   "metadata": {},
   "outputs": [],
   "source": [
    "# @TODO: Read in the menu data into the menu list\n",
    "with open(menu_filepath, 'r') as menu_file:\n",
    "    \n",
    "    # Pass in the csv file to the csv.reader() function\n",
    "    # (with ',' as the delmiter/separator) and return the csvreader object\n",
    "    menu_reader = csv.reader(menu_file, delimiter=',')\n",
    "    \n",
    "    # Use the next function to skip the header (first row of the CSV).\n",
    "    menu_header = next(menu_reader)\n",
    "       \n",
    "    # Loop over the rest of the rows and append every row to the menu list object. \n",
    "    # the outcome will be a list of lists.\n",
    "    for row in menu_reader:\n",
    "        menu.append(row)  "
   ]
  },
  {
   "cell_type": "code",
   "execution_count": 5,
   "metadata": {},
   "outputs": [],
   "source": [
    "# @TODO: Read in the sales data into the sales list\n",
    "with open(sales_filepath, 'r') as sales_file:\n",
    "    \n",
    "    # Pass in the csv file to the csv.reader() function\n",
    "    # (with ',' as the delmiter/separator) and return the csvreader object\n",
    "    sales_reader = csv.reader(sales_file, delimiter=',')\n",
    "    \n",
    "    # Use the next function to skip the header (first row of the CSV).\n",
    "    sales_header = next(sales_reader)\n",
    "       \n",
    "    # Loop over the rest of the rows and append every row to the menu list object. \n",
    "    # the outcome will be a list of lists.\n",
    "    for row in sales_reader:\n",
    "        sales.append(row) "
   ]
  },
  {
   "cell_type": "code",
   "execution_count": 6,
   "metadata": {},
   "outputs": [],
   "source": [
    "# This ends the process for reading the data. Now we move to manipulation"
   ]
  },
  {
   "cell_type": "code",
   "execution_count": 7,
   "metadata": {},
   "outputs": [],
   "source": [
    "#Initialize an empty report dictionary to hold the future aggregated per-product results\n",
    "report = {}\n",
    "\n",
    "# then loop through every row in the sales list object\n",
    "# and set variables Quantity and Menu_Item\n",
    "for sale in sales:\n",
    "    Quantity = int(sale[3])\n",
    "    Menu_Item = sale[4]\n",
    "    \n",
    "    #initialize the key-value pairs for the particular sales_item in the report.\n",
    "    report[Menu_Item] = {\n",
    "    \"01-count\": 0,\n",
    "    \"02-revenue\": 0,\n",
    "    \"03-cogs\": 0,\n",
    "    \"04-profit\": 0,\n",
    "    }    \n",
    "# now we move to the menu_data file\n",
    "# create a nested loop by looping through every record\n",
    "    for m in menu:\n",
    "        # for each row of the menu data, set the following columns of the menu data to their own variables:\n",
    "        Item = m[0]\n",
    "        Price = float(m[3])\n",
    "        Cost = float(m[4]) \n",
    "        \n",
    "        # If the sales_item in sales is equal to the item in menu, capture the quantity from the sales data \n",
    "        # and the price and cost from the menu data to calculate the profit for each item.  \n",
    "        if Menu_Item == Item:\n",
    "            report[Item][\"01-count\"] += Quantity\n",
    "            report[Item][\"02-revenue\"] += Price * Quantity\n",
    "            report[Item][\"03-cogs\"] += Cost * Quantity\n",
    "            report[Item][\"04-profit\"] += (Price - Cost) * Quantity\n",
    "        \n",
    "        # Else p\n",
    "        else:\n",
    "            print(f'{Menu_Item} does not equal {Item}! NO MATCH!')"
   ]
  },
  {
   "cell_type": "code",
   "execution_count": 8,
   "metadata": {},
   "outputs": [],
   "source": [
    "#Write out the contents of the report dictionary to a text file. The report should output each ramen type as the keys \n",
    "#and 01-count, 02-revenue, 03-cogs, and 04-profit metrics as the values for every ramen type a"
   ]
  },
  {
   "cell_type": "code",
   "execution_count": 10,
   "metadata": {},
   "outputs": [],
   "source": [
    "with open('output.txt', 'w') as file:\n",
    "    file.write(f'The resulting \"report\" dictionary is the foloowing: \\n {report}')"
   ]
  }
 ],
 "metadata": {
  "kernelspec": {
   "display_name": "Python 3",
   "language": "python",
   "name": "python3"
  },
  "language_info": {
   "codemirror_mode": {
    "name": "ipython",
    "version": 3
   },
   "file_extension": ".py",
   "mimetype": "text/x-python",
   "name": "python",
   "nbconvert_exporter": "python",
   "pygments_lexer": "ipython3",
   "version": "3.7.3"
  }
 },
 "nbformat": 4,
 "nbformat_minor": 4
}
