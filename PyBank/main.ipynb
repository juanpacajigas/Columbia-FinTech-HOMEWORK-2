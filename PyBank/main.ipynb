{
 "cells": [
  {
   "cell_type": "code",
   "execution_count": 1,
   "metadata": {},
   "outputs": [
    {
     "data": {
      "text/plain": [
       "' This is the first (mandatory) section of the Homework. Please check the README.md file for instructions\\n'"
      ]
     },
     "execution_count": 1,
     "metadata": {},
     "output_type": "execute_result"
    }
   ],
   "source": [
    "\"\"\" This is the first (mandatory) section of the Homework. Please check the README.md file for instructions\n",
    "\"\"\""
   ]
  },
  {
   "cell_type": "code",
   "execution_count": 7,
   "metadata": {},
   "outputs": [],
   "source": [
    "# Import the pathlib and csv library\n",
    "from pathlib import Path\n",
    "import csv"
   ]
  },
  {
   "cell_type": "code",
   "execution_count": 8,
   "metadata": {},
   "outputs": [],
   "source": [
    "# Set the file path\n",
    "csvpath = Path('../PyBank/budget_data.csv')"
   ]
  },
  {
   "cell_type": "code",
   "execution_count": 9,
   "metadata": {},
   "outputs": [],
   "source": [
    "with open(csvpath, 'r') as csvfile:\n",
    "\n",
    "    # Pass in the csv file to the csv.reader() function\n",
    "    # (with ',' as the delmiter/separator) and return the csvreader object\n",
    "    csvreader = csv.reader(csvfile, delimiter=',')\n",
    "\n",
    "    # Read the header row first (skip this step if there is no header)\n",
    "    csv_header = next(csvreader)\n",
    "    \n",
    "    # Define variables for number of months and total_PnL\n",
    "    total_months = 0\n",
    "    total_pnl = 0\n",
    "    total_change_pnl = 0\n",
    "    \n",
    "    # Initial values for Min y Max of profits\n",
    "    maximum_change = -10000000\n",
    "    minimum_change = 10000000\n",
    "    \n",
    "    # to compute change in PnL we need to start from the second row. \n",
    "    # this variable is a helper for that\n",
    "    i = 0\n",
    "    \n",
    "    # Define variable that contains the previous month PnL\n",
    "    profit_losses_before = 0\n",
    "    \n",
    "    # Read each row of data after the header\n",
    "    for row in csvreader:\n",
    "\n",
    "        # Set the 'Date', and 'Profit_Losses' variables for better\n",
    "        # readability, convert strings to ints for numerical calculations\n",
    "        date = row[0]\n",
    "        profit_losses = int(row[1])\n",
    "        change_pnl = profit_losses - profit_losses_before\n",
    "        \n",
    "        # today's PnL becomes the previous day one for the next loop\n",
    "        profit_losses_before = profit_losses\n",
    "        \n",
    "        # add into the total number of months\n",
    "        total_months += 1\n",
    "        \n",
    "        # add into the total PnL and tota change in PnL\n",
    "        # case for the first row is diffent. The \"IF\" takes care of that\n",
    "        total_pnl = total_pnl + profit_losses\n",
    "        \n",
    "        if i == 0:\n",
    "            total_change_pnl = 0\n",
    "        else:    \n",
    "            total_change_pnl = total_change_pnl + change_pnl\n",
    "        i += 1\n",
    "        \n",
    "        # conditionals to find the Min and the Max of profits. \n",
    "        if change_pnl > maximum_change:\n",
    "            maximum_change = change_pnl\n",
    "            maximum_date = date\n",
    "        elif change_pnl < minimum_change:\n",
    "            minimum_change = change_pnl\n",
    "            minimum_date = date\n",
    "            \n",
    "            \n",
    "    \n",
    "    # find the average change in PnL to the nearest 2 decimal places\n",
    "    average_change_pnl = round(total_change_pnl / (total_months - 1),2)\n",
    "        "
   ]
  },
  {
   "cell_type": "code",
   "execution_count": 10,
   "metadata": {},
   "outputs": [
    {
     "name": "stdout",
     "output_type": "stream",
     "text": [
      "Financial Analysis\n",
      "-----------------------------------\n",
      "Total Months: $86\n",
      "Total: $38382578\n",
      "Average Change: $-2315.12\n",
      "Greatest Increase in Profits: Feb-12 $1926159\n",
      "Greatest Decrease in Profits: Sep-13 $-2196167\n"
     ]
    }
   ],
   "source": [
    "\n",
    "print('Financial Analysis')\n",
    "print('-----------------------------------')\n",
    "print(f\"Total Months: ${total_months}\")\n",
    "print(f\"Total: ${total_pnl}\") \n",
    "print(f\"Average Change: ${average_change_pnl}\")\n",
    "print(f\"Greatest Increase in Profits: {maximum_date} ${maximum_change}\")\n",
    "print(f\"Greatest Decrease in Profits: {minimum_date} ${minimum_change}\")\n"
   ]
  },
  {
   "cell_type": "code",
   "execution_count": 15,
   "metadata": {},
   "outputs": [],
   "source": [
    "# now we export a text file with the results\n",
    "# set output file name\n",
    "output_path = 'output.txt'"
   ]
  },
  {
   "cell_type": "code",
   "execution_count": 16,
   "metadata": {},
   "outputs": [],
   "source": [
    "with open(output_path, 'w') as file:\n",
    "    # Write resulting analysis\n",
    "    file.write('Financial Analysis\\n')\n",
    "    file.write('-----------------------------------\\n')\n",
    "    file.write(f\"Total Months: {total_months}\\n\")\n",
    "    file.write(f\"Total: ${total_pnl}\\n\") \n",
    "    file.write(f\"Average Change: ${average_change_pnl}\\n\")\n",
    "    file.write(f\"Greatest Increase in Profits: {maximum_date} ${maximum_change}\\n\")\n",
    "    file.write(f\"Greatest Decrease in Profits: {minimum_date} ${minimum_change}\\n\")"
   ]
  },
  {
   "cell_type": "code",
   "execution_count": null,
   "metadata": {},
   "outputs": [],
   "source": []
  }
 ],
 "metadata": {
  "kernelspec": {
   "display_name": "Python 3",
   "language": "python",
   "name": "python3"
  },
  "language_info": {
   "codemirror_mode": {
    "name": "ipython",
    "version": 3
   },
   "file_extension": ".py",
   "mimetype": "text/x-python",
   "name": "python",
   "nbconvert_exporter": "python",
   "pygments_lexer": "ipython3",
   "version": "3.7.3"
  }
 },
 "nbformat": 4,
 "nbformat_minor": 4
}
