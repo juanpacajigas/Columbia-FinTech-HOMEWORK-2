{
 "cells": [
  {
   "cell_type": "code",
   "execution_count": 2,
   "metadata": {},
   "outputs": [
    {
     "data": {
      "text/plain": [
       "'In this activity, you are tasked with creating a Python script for analyzing the financial records of your company. You will be provided with a financial dataset in this file: budget_data.csv. This dataset is composed of two columns, Date and Profit/Losses. (Thankfully, your company has rather lax standards for accounting, so the records are simple.)\\n\\nYour task is to create a Python script that analyzes the records to calculate each of the following:\\n\\nThe total number of months included in the dataset.\\n\\nThe net total amount of Profit/Losses over the entire period.\\n\\nThe average of the changes in Profit/Losses over the entire period.\\n\\nThe greatest increase in profits (date and amount) over the entire period.\\n\\nThe greatest decrease in losses (date and amount) over the entire period.\\n\\nYour resulting analysis should look similar to the following:\\n\\n  Financial Analysis\\n  ----------------------------\\n  Total Months: 86\\n  Total: $38382578\\n  Average  Change: $-2315.12\\n  Greatest Increase in Profits: Feb-2012 ($1926159)\\n  Greatest Decrease in Profits: Sep-2013 ($-2196167)\\nYour final script should print the analysis to the terminal and export a text file with the results.Homework 2\\n'"
      ]
     },
     "execution_count": 2,
     "metadata": {},
     "output_type": "execute_result"
    }
   ],
   "source": [
    "\"\"\"In this activity, you are tasked with creating a Python script for analyzing the financial records of your company. You will be provided with a financial dataset in this file: budget_data.csv. This dataset is composed of two columns, Date and Profit/Losses. (Thankfully, your company has rather lax standards for accounting, so the records are simple.)\n",
    "\n",
    "Your task is to create a Python script that analyzes the records to calculate each of the following:\n",
    "\n",
    "The total number of months included in the dataset.\n",
    "\n",
    "The net total amount of Profit/Losses over the entire period.\n",
    "\n",
    "The average of the changes in Profit/Losses over the entire period.\n",
    "\n",
    "The greatest increase in profits (date and amount) over the entire period.\n",
    "\n",
    "The greatest decrease in losses (date and amount) over the entire period.\n",
    "\n",
    "Your resulting analysis should look similar to the following:\n",
    "\n",
    "  Financial Analysis\n",
    "  ----------------------------\n",
    "  Total Months: 86\n",
    "  Total: $38382578\n",
    "  Average  Change: $-2315.12\n",
    "  Greatest Increase in Profits: Feb-2012 ($1926159)\n",
    "  Greatest Decrease in Profits: Sep-2013 ($-2196167)\n",
    "Your final script should print the analysis to the terminal and export a text file with the results.\n",
    "\"\"\""
   ]
  },
  {
   "cell_type": "code",
   "execution_count": 23,
   "metadata": {},
   "outputs": [],
   "source": [
    "# Import the pathlib and csv library\n",
    "from pathlib import Path\n",
    "import csv"
   ]
  },
  {
   "cell_type": "code",
   "execution_count": 24,
   "metadata": {},
   "outputs": [],
   "source": [
    "# Set the file path\n",
    "csvpath = Path('../PyBank/budget_data.csv')"
   ]
  },
  {
   "cell_type": "code",
   "execution_count": 25,
   "metadata": {},
   "outputs": [],
   "source": [
    "with open(csvpath, 'r') as csvfile:\n",
    "\n",
    "    # Pass in the csv file to the csv.reader() function\n",
    "    # (with ',' as the delmiter/separator) and return the csvreader object\n",
    "    csvreader = csv.reader(csvfile, delimiter=',')\n",
    "\n",
    "    # Read the header row first (skip this step if there is no header)\n",
    "    csv_header = next(csvreader)\n",
    "    \n",
    "    # Define counter variable for number of months and total_PnL\n",
    "    total_months = 0\n",
    "    total_pnl = 0\n",
    "    \n",
    "    # Initial values for Min y Max of profits\n",
    "    maximum = -10000000\n",
    "    minimum = 10000000\n",
    "    \n",
    "    # Read each row of data after the header\n",
    "    for row in csvreader:\n",
    "\n",
    "        # Set the 'Date', and 'Profit_Losses' variables for better\n",
    "        # readability, convert strings to ints for numerical calculations\n",
    "        date = row[0]\n",
    "        profit_losses = int(row[1])\n",
    "        \n",
    "        # add into the total number of months\n",
    "        total_months += 1\n",
    "        \n",
    "        # add into the total PnL\n",
    "        total_pnl = total_pnl + profit_losses\n",
    "        \n",
    "        # conditionals to find the Min and the Max of profits. \n",
    "        # This works only if number of months is greater than one\n",
    "        if profit_losses > maximum:\n",
    "            maximum = profit_losses\n",
    "            maximum_date = date\n",
    "        elif profit_losses < minimum:\n",
    "            minimum = profit_losses\n",
    "            minimum_date = date\n",
    "    \n",
    "    # find the average PnL to the nearest 2 decimal places\n",
    "    average_pnl = round(total_pnl / total_months,2)\n",
    "        "
   ]
  },
  {
   "cell_type": "code",
   "execution_count": 26,
   "metadata": {},
   "outputs": [
    {
     "name": "stdout",
     "output_type": "stream",
     "text": [
      "Financial Analysis\n",
      "-----------------------------------\n",
      "Total Months: $86\n",
      "Total: $38382578\n",
      "Average Change: $446309.05\n",
      "Greatest Increase in Profits: Feb-12 $1170593\n",
      "Greatest Decrease in Profits: Sep-13 $-1196225\n"
     ]
    }
   ],
   "source": [
    "\n",
    "print('Financial Analysis')\n",
    "print('-----------------------------------')\n",
    "print(f\"Total Months: ${total_months}\")\n",
    "print(f\"Total: ${total_pnl}\") \n",
    "print(f\"Average Change: ${average_pnl}\")\n",
    "print(f\"Greatest Increase in Profits: {maximum_date} ${maximum}\")\n",
    "print(f\"Greatest Decrease in Profits: {minimum_date} ${minimum}\")\n"
   ]
  },
  {
   "cell_type": "code",
   "execution_count": 28,
   "metadata": {},
   "outputs": [],
   "source": [
    "# now we export a text file with the results\n",
    "# set output file name\n",
    "output_path = 'output.txt'"
   ]
  },
  {
   "cell_type": "code",
   "execution_count": 32,
   "metadata": {},
   "outputs": [],
   "source": [
    "with open(output_path, 'w') as file:\n",
    "    # Write resulting analysis\n",
    "    file.write('Financial Analysis\\n')\n",
    "    file.write('-----------------------------------\\n')\n",
    "    file.write(f\"Total Months: {total_months}\\n\")\n",
    "    file.write(f\"Total: ${total_pnl}\\n\") \n",
    "    file.write(f\"Average Change: ${average_pnl}\\n\")\n",
    "    file.write(f\"Greatest Increase in Profits: {maximum_date} ${maximum}\\n\")\n",
    "    file.write(f\"Greatest Decrease in Profits: {minimum_date} ${minimum}\\n\")"
   ]
  },
  {
   "cell_type": "code",
   "execution_count": null,
   "metadata": {},
   "outputs": [],
   "source": []
  }
 ],
 "metadata": {
  "kernelspec": {
   "display_name": "Python 3",
   "language": "python",
   "name": "python3"
  },
  "language_info": {
   "codemirror_mode": {
    "name": "ipython",
    "version": 3
   },
   "file_extension": ".py",
   "mimetype": "text/x-python",
   "name": "python",
   "nbconvert_exporter": "python",
   "pygments_lexer": "ipython3",
   "version": "3.7.3"
  }
 },
 "nbformat": 4,
 "nbformat_minor": 4
}
